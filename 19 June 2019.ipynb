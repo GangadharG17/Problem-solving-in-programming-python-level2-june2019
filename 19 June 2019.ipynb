{
 "cells": [
  {
   "cell_type": "code",
   "execution_count": 4,
   "metadata": {},
   "outputs": [
    {
     "name": "stdout",
     "output_type": "stream",
     "text": [
      "1\n",
      "cde\n",
      "abc\n",
      "4\n",
      "7\n",
      "10\n"
     ]
    }
   ],
   "source": [
    "#Anagrams\n",
    "def anagrams(t,a,b):\n",
    "    count = 1\n",
    "    for i in a:\n",
    "        for j in b:\n",
    "            if i==j:\n",
    "                count += 1\n",
    "            else:\n",
    "                count += 1\n",
    "        print(count)\n",
    "t=int(input())\n",
    "a=input()\n",
    "b=input()\n",
    "anagrams(t,a,b)\n"
   ]
  },
  {
   "cell_type": "code",
   "execution_count": 8,
   "metadata": {},
   "outputs": [
    {
     "name": "stdout",
     "output_type": "stream",
     "text": [
      "120\n"
     ]
    }
   ],
   "source": [
    "#Find Product\n",
    "def factorial(n):\n",
    "    x=[]\n",
    "    p=1\n",
    "    if n<=1:\n",
    "        return 1\n",
    "    else:\n",
    "        for i in range(1,n+1):\n",
    "            p*=i\n",
    "    print(p%1000000007)\n",
    "\n",
    "\n",
    "factorial(5)"
   ]
  },
  {
   "cell_type": "code",
   "execution_count": null,
   "metadata": {},
   "outputs": [],
   "source": []
  }
 ],
 "metadata": {
  "kernelspec": {
   "display_name": "Python 3",
   "language": "python",
   "name": "python3"
  },
  "language_info": {
   "codemirror_mode": {
    "name": "ipython",
    "version": 3
   },
   "file_extension": ".py",
   "mimetype": "text/x-python",
   "name": "python",
   "nbconvert_exporter": "python",
   "pygments_lexer": "ipython3",
   "version": "3.7.3"
  }
 },
 "nbformat": 4,
 "nbformat_minor": 2
}
