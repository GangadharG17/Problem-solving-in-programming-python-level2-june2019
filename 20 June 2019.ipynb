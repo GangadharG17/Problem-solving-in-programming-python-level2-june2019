{
 "cells": [
  {
   "cell_type": "markdown",
   "metadata": {},
   "source": [
    "## Day Objective:\n",
    "# Regular Expressions\n",
    "- Constructing Regular Expressions for various use cases\n",
    "- Regular Expressions Module and related in Python \n",
    "- Improving the contacts application with name  and phone number validation \n",
    "# File Handling\n",
    "- Text Files\n",
    "- Upgrading the Contacts Application to store contact information in a text file"
   ]
  },
  {
   "cell_type": "code",
   "execution_count": null,
   "metadata": {},
   "outputs": [],
   "source": []
  },
  {
   "cell_type": "markdown",
   "metadata": {},
   "source": [
    "## Regular Expressions\n",
    "\n",
    "- Pattern Matching\n",
    "- Symbolic Notation of a pattern\n",
    "    - Pattern : Format which repeats\n",
    "    - Pattern(RE) represents the set of all values that match that pattern \n",
    "- [0-9] -> Any Digit  \n",
    "\n",
    "- [a-z] -> Any lower case Alphabet\n",
    "\n",
    "- [2468] -> All single digit multiples of 2\n",
    "\n",
    "-  ^[0-9]{1}$ -> Only single digit numbers  \n",
    "\n",
    "-  ^[0-9]{2}$ -> Only two digit numbers\n",
    "\n",
    "-  ^[0-9]{3}$ -> All Three Digits \n",
    "\n",
    "- [0-9]*0$ ->  end ot the  0\n",
    "\n",
    "-  ^([1-9][0-9]*[05]$)      -> All multiples of 5\n",
    "\n",
    "- ^([1-9][0-9]*[05])$|([05])$ ->all multiples of 5 also works\n",
    "\n",
    "- [98765]{1}{0-9]{9}$  -> Validating phone number(india)(start with [9786]\n",
    "\n",
    "- ([p][r][i][n][t])  ->\n",
    "\n",
    "- [w][o][r][d] or (word)\n",
    "\n",
    "- ^[6-9][0-9]{9}$|^[0][6-9][0-9]{9}|^[+][9][1][6-9][0-9]{9}$ ->validating phone number\n",
    "\n",
    "-> Email validation (username@domain.extension)\n",
    "    - username\n",
    "        - Length of user name : [6,15]\n",
    "        - No special characters other than _ .\n",
    "        - Should not begin and end with _ .\n",
    "        - Character set :all digits and lower case alphabets\n",
    "    - domain\n",
    "        - Length of domain : [3,18]\n",
    "        - No Special Characters\n",
    "        - Character set : all digits and lower case alphabets\n",
    "    - extension\n",
    "        - Length of extension : [2,4]\n",
    "        - No special character\n",
    "        - character set : lower case alphabet\n",
    "     - ^[0-9a-z][0-9a-z_.]{4,13}[0-9a-z]@[a-z]{3,18}[.][a-z][2-4]$\n",
    "        \n",
    "    - Another Process for email:\n",
    "    ^(([A-Za-z0-9]+_+)|([A-Za-z0-9]+\\-+)|([A-Za-z0-9]+\\.+)|([A-Za-z0-9]+\\++))*[A-Za-z0-9]+@((\\w+\\-+)|(\\w+\\.))*\\w{1,63}\\.[a-zA-Z]{2,6}$\n",
    "    \n",
    "    - ^[a]...*[z]$ -> Any string of length 5 that starts with 'a'  and end with 'z'\n",
    "    "
   ]
  },
  {
   "cell_type": "code",
   "execution_count": null,
   "metadata": {},
   "outputs": [],
   "source": [
    "\n"
   ]
  },
  {
   "cell_type": "code",
   "execution_count": 13,
   "metadata": {},
   "outputs": [
    {
     "name": "stdout",
     "output_type": "stream",
     "text": [
      "Invalid Number\n"
     ]
    }
   ],
   "source": [
    "#Function to validate a Phone numeber\n",
    "\n",
    "import re\n",
    "\n",
    "def PhoneNumberValidate(number):\n",
    "    pattern = '^[6-9][0-9]{9}$|^[0][6-9][0-9]{9}|^[+][9][1][6-9][0-9]{9}$'\n",
    "    if re.match(pattern,str(number)):\n",
    "        print(\"Valid Number\")\n",
    "    else:\n",
    "        print(\"Invalid Number\")\n",
    "\n",
    "PhoneNumberValidate(888646882)\n"
   ]
  },
  {
   "cell_type": "code",
   "execution_count": 10,
   "metadata": {},
   "outputs": [],
   "source": [
    "#contacts={\"name1\":[9494655935]}\n",
    "#def addContacts(name,phone):\n",
    "    #Verify that the contact doesnot already \n",
    "  #  if name in contacts: # and PhoneNumberValidate(phone):\n",
    "   #     contacts(name) = phone\n",
    "    #    print(\"Contact %s added\" % name)\n",
    "    #if not phoneNumberValidate(phone):\n",
    "     #   print(\"Phone number is invalid\")\n",
    "    #return\n",
    "\n",
    "\n",
    "#addContacts(\"name1\",9494655935)\n",
    "\n",
    "\n",
    "\n",
    "    \n"
   ]
  },
  {
   "cell_type": "code",
   "execution_count": 15,
   "metadata": {},
   "outputs": [
    {
     "name": "stdout",
     "output_type": "stream",
     "text": [
      "Valid Number\n",
      "Invalid phone\n"
     ]
    }
   ],
   "source": [
    "contacts={\"name1\":[8886468828,'gangadhar59k@gmail.com'],\"name2\":[9493544690,'gangadhar21793@gmail.com']}\n",
    "def addContacts(name,phone,email):\n",
    "    if name in contacts:\n",
    "        print(\"name already exists\")\n",
    "    else:\n",
    "        if not PhoneNumberValidate(phone):\n",
    "            print(\"Invalid phone\")\n",
    "        return\n",
    "        if not emailValidator(email):\n",
    "            print(\"Invalid email address\")\n",
    "            return\n",
    "        newcontact=[]\n",
    "        newcontact.append(phone)\n",
    "        newcontact.append(email)\n",
    "        contacts[name]=newcontact\n",
    "    return\n",
    "addContacts(\"name3\",7387915327,\"subcollector@gmail.com\")"
   ]
  },
  {
   "cell_type": "code",
   "execution_count": null,
   "metadata": {},
   "outputs": [],
   "source": [
    "#function to email validator\n",
    "#def emailValidator(email):\n",
    " #   pattern = '^[0-9a-z][0-9a-z_.]{4,13}[0-9a-z]@[a-z]{3,18}[.][a-z][2-4]$'\n",
    "    \n",
    "    \n",
    "    "
   ]
  },
  {
   "cell_type": "code",
   "execution_count": 16,
   "metadata": {},
   "outputs": [
    {
     "name": "stdout",
     "output_type": "stream",
     "text": [
      "gangadhar does not exits\n"
     ]
    }
   ],
   "source": [
    "# Search Contact\n",
    "def searchContacts(name):\n",
    "    if name in contacts:\n",
    "        print(name,\":\",contacts[name])\n",
    "    else:\n",
    "        print(\"%s does not exits\"% name)\n",
    "searchContacts(\"gangadhar\")"
   ]
  },
  {
   "cell_type": "code",
   "execution_count": 17,
   "metadata": {},
   "outputs": [
    {
     "name": "stdout",
     "output_type": "stream",
     "text": [
      "{'name1': [8886468828, 'gangadhar59k@gmail.com'], 'name2': [9493544690, 'gangadhar21793@gmail.com']}\n"
     ]
    }
   ],
   "source": [
    "# list of all contacts\n",
    "def listOfAllContacts(contacts):\n",
    "    contacts.items()\n",
    "    print(contacts)\n",
    "listOfAllContacts(contacts)"
   ]
  },
  {
   "cell_type": "code",
   "execution_count": 37,
   "metadata": {},
   "outputs": [
    {
     "name": "stdout",
     "output_type": "stream",
     "text": [
      "name1\n",
      "phone : 8886468828\n",
      "email : gangadhar59k@gmail.com\n"
     ]
    }
   ],
   "source": [
    "def searchContacts(name):\n",
    "    if name in contacts:\n",
    "        print(name)\n",
    "        print(\"phone :\" ,contacts[name][0])\n",
    "        print(\"email :\" ,contacts[name][1])\n",
    "    else:\n",
    "        print(\"%s does not exits\"% name)\n",
    "searchContacts(\"name1\")"
   ]
  },
  {
   "cell_type": "code",
   "execution_count": 39,
   "metadata": {},
   "outputs": [
    {
     "name": "stdout",
     "output_type": "stream",
     "text": [
      "name1 \n",
      " phone : 8886468828 \n",
      " email: gangadhar59k@gmail.com\n",
      "name2 \n",
      " phone : 9493544690 \n",
      " email: gangadhar21793@gmail.com\n"
     ]
    }
   ],
   "source": [
    "# Function to list all contacts\n",
    "\n",
    "def listAllContacts():\n",
    "    for contact,info in contacts.items():\n",
    "        print(contact,\"\\n\",\"phone :\",info [0],\"\\n\",\"email:\",info[1])\n",
    "          \n",
    "listAllContacts()"
   ]
  },
  {
   "cell_type": "code",
   "execution_count": null,
   "metadata": {},
   "outputs": [],
   "source": []
  },
  {
   "cell_type": "code",
   "execution_count": null,
   "metadata": {},
   "outputs": [],
   "source": []
  },
  {
   "cell_type": "markdown",
   "metadata": {},
   "source": [
    "## File Handling in Python\n",
    "\n",
    "File - Document containing information on the permanant storage \n",
    "Types - Text,Pdf,csv  ..etc\n",
    "\n",
    "File I/O- Channeling I/O data to files\n",
    "Default I/O channels -Keyboard /Screen\n",
    "\n",
    "Change I/O channel to files for Reading and writing \n",
    "\n",
    "Read a file - input from a file\n",
    "write a file - output to a file\n",
    "\n",
    "Read/write a file - open(file name,mode)"
   ]
  },
  {
   "cell_type": "code",
   "execution_count": 32,
   "metadata": {},
   "outputs": [
    {
     "name": "stdout",
     "output_type": "stream",
     "text": [
      "Line1\n",
      "Line2\n",
      "Line3"
     ]
    }
   ],
   "source": [
    "#Function to read a file\n",
    "\n",
    "def readFile(filename):\n",
    "    f = open(filename, 'r')\n",
    "    filedata=f.read()\n",
    "    f.close()\n",
    "    return filedata\n",
    "#filename = 'Datafiles/data.txt'\n",
    "#for line in readFile(filename).split('\\n'):\n",
    "    print(line)\n",
    "    \n",
    "def printFileDataLines(filename):\n",
    "    f = open(filename, 'r')\n",
    "    for line in f:\n",
    "        print(line,end='')\n",
    "    return\n",
    "printFileDataLines(filename)\n"
   ]
  },
  {
   "cell_type": "code",
   "execution_count": null,
   "metadata": {},
   "outputs": [],
   "source": [
    "#Function to write data into a file\n",
    "\n",
    "def writeIntoFile(filename,filedata):\n",
    "    with open(filename,'w') as f:\n",
    "        f.write(filedata)\n",
    "    return\n",
    "filename = 'DataFiles/data.txt'\n",
    "\n",
    "writeIntoFile(filename,\"new data\")"
   ]
  },
  {
   "cell_type": "code",
   "execution_count": 36,
   "metadata": {},
   "outputs": [],
   "source": [
    "#Function to append data to a file\n",
    "\n",
    "def appendDatatoFile(filename,filedata):\n",
    "    with open(filename, 'a') as f:\n",
    "        f.write(filedata)\n",
    "    return\n",
    "filedata = \"Line2\\nline3\"\n",
    "appendDatatoFile(filename,filedata)"
   ]
  },
  {
   "cell_type": "code",
   "execution_count": null,
   "metadata": {},
   "outputs": [],
   "source": []
  }
 ],
 "metadata": {
  "kernelspec": {
   "display_name": "Python 3",
   "language": "python",
   "name": "python3"
  },
  "language_info": {
   "codemirror_mode": {
    "name": "ipython",
    "version": 3
   },
   "file_extension": ".py",
   "mimetype": "text/x-python",
   "name": "python",
   "nbconvert_exporter": "python",
   "pygments_lexer": "ipython3",
   "version": "3.7.3"
  }
 },
 "nbformat": 4,
 "nbformat_minor": 2
}
