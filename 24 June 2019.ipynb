{
 "cells": [
  {
   "cell_type": "code",
   "execution_count": 4,
   "metadata": {},
   "outputs": [],
   "source": [
    "def FreqDictributionofWords(filepath):\n",
    "    \n",
    "    # Dictionary to be used\n",
    "    # keys -> unique words\n",
    "    # Values -> count of unique words\n",
    "    \n",
    "    # Two lits\n",
    "        #All Words list -\n",
    "        #UniqueWords list -\n",
    "        \n",
    "    # Set \n",
    "    allWords = wordsFromFile(filepath)\n",
    "    uniquewords = UniqueWord(filepath)\n",
    "    \n",
    "\n",
    "    for word in uniquewords:\n",
    "        count = allwords.count(word)\n",
    "        print(word,':',count)\n",
    "        \n",
    "    return\n",
    "\n",
    "def FrequencyDistributionOfWords2(filepath):\n",
    "    allWords = wordsFromFile(filepath)\n",
    "    uniquewords = UniqueWord(filepath)\n",
    "    wordFrequency = {}  \n",
    "    \n",
    "    for word in allWords:\n",
    "        if word not in wordFrequency.keys():\n",
    "            wordFrequency[word] = 1\n",
    "        else:\n",
    "            wordFrequency[word] += 1\n",
    "    return wordFrequency\n",
    "\n",
    "filepath = 'Datafiles/data.txt'"
   ]
  },
  {
   "cell_type": "code",
   "execution_count": null,
   "metadata": {},
   "outputs": [],
   "source": []
  },
  {
   "cell_type": "code",
   "execution_count": 5,
   "metadata": {},
   "outputs": [],
   "source": [
    "#Contacts Applications\n",
    "    # Add,Search,List,Modify Delete contacts\n",
    "    \n",
    "# Find and Replace Application\n",
    "    # count the total numbre of occurances\n",
    "    # If word is existings\n",
    "    # Replace all occurances of a word with another word\n",
    "    \n",
    "# Marks Analysis Application\n",
    "    # Generate marks file for n students\n",
    "    # Input : Marks text file - each line contains marks of one student\n",
    "    # Generate a report the following Information \n",
    "        # Class Average\n",
    "        # % of students passed\n",
    "        # % of students failed\n",
    "        # % of students with distinction\n",
    "        # Highest Mark Frequency\n",
    "        # Lowest Mark Frequency"
   ]
  },
  {
   "cell_type": "code",
   "execution_count": 7,
   "metadata": {},
   "outputs": [],
   "source": [
    "# Function to generate marks data for n students\n",
    "from random import randint\n",
    "def generateMarks(n, lb, ub):\n",
    "    with open('Datafiles/marks.txt', 'w') as f:\n",
    "        for i in range(0,n):\n",
    "            r = randint(lb,ub)\n",
    "            f.write(str(r) + '\\n')\n",
    "            \n",
    "    return\n",
    "\n",
    "generateMarks(100, 25, 97)    "
   ]
  },
  {
   "cell_type": "code",
   "execution_count": 5,
   "metadata": {
    "scrolled": true
   },
   "outputs": [
    {
     "name": "stdout",
     "output_type": "stream",
     "text": [
      "['80', '49', '85', '36', '95', '83', '66', '95', '35', '65', '87', '64', '42', '63', '59', '93', '63', '35', '42', '97', '90', '61', '85', '85', '57', '90', '47', '73', '59', '62', '89', '47', '44', '50', '49', '41', '66', '69', '71', '74', '67', '86', '81', '90', '37', '65', '44', '87', '78', '71', '83', '51', '46', '59', '68', '68', '38', '70', '73', '83', '68', '59', '47', '94', '35', '62', '66', '70', '46', '41', '74', '50', '93', '60', '53', '71', '87', '75', '96', '91', '58', '81', '58', '52', '92', '72', '45', '72', '77', '63', '87', '39', '87', '35', '44', '72', '73', '48', '84']\n"
     ]
    }
   ],
   "source": [
    "def readfile(filename):\n",
    "        with open(filename,'r') as f:\n",
    "            filedata=f.read().split()\n",
    "        print(filedata)    \n",
    "readfile(\"Datafiles/marks.txt\")"
   ]
  },
  {
   "cell_type": "code",
   "execution_count": 6,
   "metadata": {},
   "outputs": [
    {
     "name": "stdout",
     "output_type": "stream",
     "text": [
      "13err\n",
      "0 1 0 1 0 0 0 0 0 0 "
     ]
    }
   ],
   "source": [
    "# Frequency digit problem\n",
    "n=(input())\n",
    "for i in range(0,10):\n",
    "    print(n.count(str(i)),end=' ')"
   ]
  },
  {
   "cell_type": "code",
   "execution_count": null,
   "metadata": {},
   "outputs": [],
   "source": []
  }
 ],
 "metadata": {
  "kernelspec": {
   "display_name": "Python 3",
   "language": "python",
   "name": "python3"
  },
  "language_info": {
   "codemirror_mode": {
    "name": "ipython",
    "version": 3
   },
   "file_extension": ".py",
   "mimetype": "text/x-python",
   "name": "python",
   "nbconvert_exporter": "python",
   "pygments_lexer": "ipython3",
   "version": "3.7.3"
  }
 },
 "nbformat": 4,
 "nbformat_minor": 2
}
