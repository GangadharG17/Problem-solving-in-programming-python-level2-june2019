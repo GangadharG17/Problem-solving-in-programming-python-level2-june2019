{
 "cells": [
  {
   "cell_type": "code",
   "execution_count": 5,
   "metadata": {},
   "outputs": [
    {
     "name": "stdout",
     "output_type": "stream",
     "text": [
      "1 1 0 1 1 2 0 0 1 0 "
     ]
    }
   ],
   "source": [
    "# Count the frequency of digit\n",
    "t='1534gksdggdssg580'\n",
    "for i in range(0,10):\n",
    "    text=t.count(str(i))\n",
    "    print(text,end=' ')"
   ]
  },
  {
   "cell_type": "code",
   "execution_count": 13,
   "metadata": {},
   "outputs": [
    {
     "name": "stdout",
     "output_type": "stream",
     "text": [
      "0 1 1 1 1 1 1 0 0 0 "
     ]
    }
   ],
   "source": [
    "# S=123abc456def -> frequuency\n",
    "# 0 1 1 1 1 1 1 0 0 0\n",
    "#count(1) -> 1 4 3 1 1 1 4 4 4\n",
    "# s=c\n",
    "# 0 0 0 0 0 0 0 0 0 0\n",
    "\n",
    "#s= 1234567890\n",
    "# 1 1 1 1 1 1 1 1 1 1\n",
    "def uniquedata(allnumbers):\n",
    "    unique = []\n",
    "    for n in allnumbers:\n",
    "        if n not in unique:\n",
    "            unique.append(n)\n",
    "    return unique\n",
    "\n",
    "def digitFrequency1(s):\n",
    "    allnumbers = []\n",
    "    for i in s:\n",
    "        if i.isdigit():\n",
    "            allnumbers.append(i)\n",
    "    unique = uniquedata(allnumbers)\n",
    "    for i in range(0,10):\n",
    "        if str(i) not in unique:\n",
    "            print(0,end=' ')\n",
    "        else:\n",
    "            count=allnumbers.count(str(i))\n",
    "            print(count,end=' ')\n",
    "digitFrequency1('123abc456def')"
   ]
  },
  {
   "cell_type": "code",
   "execution_count": null,
   "metadata": {},
   "outputs": [],
   "source": [
    "#Contacts Applications\n",
    "    # Add,Search,List,Modify Delete contacts\n",
    "    \n",
    "# Find and Replace Application\n",
    "    # count the total numbre of occurances\n",
    "    # If word is existings\n",
    "    # Replace all occurances of a word with another word\n",
    "    \n",
    "# Marks Analysis Application\n",
    "    # Generate marks file for n students\n",
    "    # Input : Marks text file - each line contains marks of one student\n",
    "    # Generate a report the following Information \n",
    "        # Class Average\n",
    "        # % of students passed\n",
    "        # % of students failed\n",
    "        # % of students with distinction"
   ]
  },
  {
   "cell_type": "code",
   "execution_count": 7,
   "metadata": {},
   "outputs": [
    {
     "data": {
      "text/plain": [
       "['46',\n",
       " '81',\n",
       " '86',\n",
       " '35',\n",
       " '84',\n",
       " '75',\n",
       " '92',\n",
       " '57',\n",
       " '51',\n",
       " '77',\n",
       " '57',\n",
       " '79',\n",
       " '55',\n",
       " '29',\n",
       " '37',\n",
       " '56',\n",
       " '25',\n",
       " '81',\n",
       " '37',\n",
       " '27',\n",
       " '26',\n",
       " '71',\n",
       " '65',\n",
       " '92',\n",
       " '44',\n",
       " '85',\n",
       " '32',\n",
       " '27',\n",
       " '78',\n",
       " '87',\n",
       " '50',\n",
       " '82',\n",
       " '46',\n",
       " '28',\n",
       " '82',\n",
       " '70',\n",
       " '56',\n",
       " '40',\n",
       " '71',\n",
       " '64',\n",
       " '59',\n",
       " '93',\n",
       " '63',\n",
       " '33',\n",
       " '89',\n",
       " '49',\n",
       " '80',\n",
       " '87',\n",
       " '91',\n",
       " '25',\n",
       " '75',\n",
       " '43',\n",
       " '58',\n",
       " '95',\n",
       " '84',\n",
       " '79',\n",
       " '80',\n",
       " '71',\n",
       " '84',\n",
       " '52',\n",
       " '65',\n",
       " '45',\n",
       " '29',\n",
       " '60',\n",
       " '86',\n",
       " '29',\n",
       " '66',\n",
       " '47',\n",
       " '49',\n",
       " '65',\n",
       " '54',\n",
       " '44',\n",
       " '34',\n",
       " '56',\n",
       " '97',\n",
       " '29',\n",
       " '39',\n",
       " '72',\n",
       " '93',\n",
       " '96',\n",
       " '82',\n",
       " '86',\n",
       " '25',\n",
       " '50',\n",
       " '85',\n",
       " '55',\n",
       " '63',\n",
       " '34',\n",
       " '60',\n",
       " '31',\n",
       " '92',\n",
       " '68',\n",
       " '73',\n",
       " '97',\n",
       " '91',\n",
       " '92',\n",
       " '26',\n",
       " '35',\n",
       " '33',\n",
       " '54']"
      ]
     },
     "execution_count": 7,
     "metadata": {},
     "output_type": "execute_result"
    }
   ],
   "source": [
    "def readfile(filename):\n",
    "        with open(filename,'r') as f:\n",
    "            filedata=f.read().split()\n",
    "        return filedata \n",
    "readfile(\"Datafiles/marks.txt\")"
   ]
  },
  {
   "cell_type": "code",
   "execution_count": 8,
   "metadata": {},
   "outputs": [
    {
     "data": {
      "text/plain": [
       "82.0"
      ]
     },
     "execution_count": 8,
     "metadata": {},
     "output_type": "execute_result"
    }
   ],
   "source": [
    "def passPercent(filename):\n",
    "    l=list(map(int,readfile(filename)))\n",
    "    a=0\n",
    "    c=0\n",
    "    for i in l:\n",
    "        if i>=35:\n",
    "            c+=1\n",
    "            a+=i\n",
    "    return (c/len(l))*100\n",
    "filename=(\"Datafiles/marks.txt\")      \n",
    "passPercent(filename)"
   ]
  },
  {
   "cell_type": "code",
   "execution_count": 11,
   "metadata": {},
   "outputs": [
    {
     "data": {
      "text/plain": [
       "18.0"
      ]
     },
     "execution_count": 11,
     "metadata": {},
     "output_type": "execute_result"
    }
   ],
   "source": [
    "def failPercent(filename):\n",
    "    l=list(map(int,readfile(filename)))\n",
    "    a=0\n",
    "    c=0\n",
    "    for i in l:\n",
    "        if i<35:\n",
    "            c+=1\n",
    "            a+=i\n",
    "    return (c/len(l))*100\n",
    "filename=(\"Datafiles/marks.txt\")\n",
    "failPercent(filename)\n"
   ]
  },
  {
   "cell_type": "code",
   "execution_count": 12,
   "metadata": {},
   "outputs": [
    {
     "name": "stdout",
     "output_type": "stream",
     "text": [
      "42\n"
     ]
    },
    {
     "data": {
      "text/plain": [
       "42.0"
      ]
     },
     "execution_count": 12,
     "metadata": {},
     "output_type": "execute_result"
    }
   ],
   "source": [
    "def distPercent(filename):\n",
    "    l=list(map(int,readfile(filename)))\n",
    "    a=0\n",
    "    c=0\n",
    "    for i in l:\n",
    "        if i>=70:\n",
    "            c+=1\n",
    "            a+=i\n",
    "    print(c)\n",
    "    return(c/len(l))*100\n",
    "filename=(\"Datafiles/marks.txt\")\n",
    "distPercent(filename)"
   ]
  },
  {
   "cell_type": "code",
   "execution_count": 1,
   "metadata": {},
   "outputs": [
    {
     "name": "stdout",
     "output_type": "stream",
     "text": [
      "97\n"
     ]
    }
   ],
   "source": [
    " def heighestFrequency(filename):\n",
    "        with open(filename,'r') as f:\n",
    "            l=f.read().split()\n",
    "            l1=list(map(int,l))\n",
    "            t=max(l1)\n",
    "            print(t)\n",
    "filename=\"Datafiles/marks.txt\"\n",
    "heighestFrequency(filename)\n"
   ]
  },
  {
   "cell_type": "code",
   "execution_count": 3,
   "metadata": {},
   "outputs": [
    {
     "name": "stdout",
     "output_type": "stream",
     "text": [
      "25\n"
     ]
    }
   ],
   "source": [
    "def lowestFrequency(filename):\n",
    "    with open(filename,'r') as f:\n",
    "        l=f.read().split()\n",
    "        l1=list(map(int,l))\n",
    "        t=min(l1)\n",
    "        print(t)\n",
    "filename=\"Datafiles/marks.txt\"\n",
    "lowestFrequency(filename)"
   ]
  },
  {
   "cell_type": "code",
   "execution_count": 15,
   "metadata": {},
   "outputs": [
    {
     "data": {
      "text/plain": [
       "5"
      ]
     },
     "execution_count": 15,
     "metadata": {},
     "output_type": "execute_result"
    }
   ],
   "source": [
    "# Function to check if two strings are anagrams\n",
    "#abc cba ->True\n",
    "#abc abc\n",
    "#Dictionary {a:1,b:1,c:1} {c:1,b:1,a:1}\n",
    "#aabbcc ccbbaaa -> False\n",
    "#aabbcc aaabbcc\n",
    "# abccc -> {a:1,b:1,c:3}\n",
    "# aabcb -> {a:2,b:2,c:1}\n",
    "\n",
    "#uncommon = [e,e,d,d,d]\n",
    "\n",
    "def checkAnagrams(s1,s2):\n",
    "    if len(s1) != len(s2):\n",
    "        return False\n",
    "    if sorted(s1)==sorted(s2):\n",
    "        return True\n",
    "    return False\n",
    "\n",
    "#checkAnagrams('abc','cab')\n",
    "def charDeletionsAnagrams(s1,s2):\n",
    "    #to collect all uncommon characters - characters occuring in only \n",
    "    uncommon = []\n",
    "    for i in s1:\n",
    "        if i not in s2:\n",
    "            uncommon.append(i)\n",
    "    for i in s2:\n",
    "        if i not in s1:\n",
    "            uncommon.append(i)\n",
    "    count = len(uncommon)\n",
    "    #Frequency of common characters in s1\n",
    "    freqs1 = {}\n",
    "    #Frequency of common characters in s2\n",
    "    freqs2 = {}\n",
    "    # unique characters in s1 and s2\n",
    "    uniqs1 = []\n",
    "    uniqs2 = []\n",
    "    # Frequency of common unique characters in s1 \n",
    "    for i in s1:\n",
    "        if i not in uncommon and i not in uniqs1:\n",
    "            freqs1[i] = s1.count(i)\n",
    "            uniqs1.append(i)\n",
    "    # Frequency of common unique characters in s2\n",
    "    for i in s2:\n",
    "        if i not in uncommon and i not in uniqs2:\n",
    "            freqs2[i] = s2.count(i)\n",
    "            uniqs2.append(i)\n",
    "    #difference in frequencies for common characters\n",
    "    for key in freqs1.keys():\n",
    "        count += abs(freqs1[key]-freqs2[key])\n",
    "    return count\n",
    "\n",
    "charDeletionsAnagrams('abccde','aabcb')\n",
    "        \n",
    "        "
   ]
  },
  {
   "cell_type": "code",
   "execution_count": 6,
   "metadata": {},
   "outputs": [
    {
     "data": {
      "text/plain": [
       "62228"
      ]
     },
     "execution_count": 6,
     "metadata": {},
     "output_type": "execute_result"
    }
   ],
   "source": [
    "#Average of two \n",
    "\n",
    "def Average(lb,ub):\n",
    "    sum=0\n",
    "    count =0\n",
    "    for i in range(lb,ub+1):\n",
    "        sum +=i\n",
    "        count += 1\n",
    "    return sum//count\n",
    "Average(1000,123456)"
   ]
  },
  {
   "cell_type": "code",
   "execution_count": 10,
   "metadata": {},
   "outputs": [
    {
     "data": {
      "text/plain": [
       "'b'"
      ]
     },
     "execution_count": 10,
     "metadata": {},
     "output_type": "execute_result"
    }
   ],
   "source": [
    "# problem 2\n",
    "#[a:4,g:9,i:6,p:213]\n",
    "#[4,6,6,9,213]\n",
    "#[213,9,6,6,4]# Reverse order\n",
    "#[a,c,g,i,p]\n",
    "#k=3\n",
    "#li=[]\n",
    "#for item in d.items():\n",
    "# if item[1] == 6:\n",
    "# li.append(item[0])\n",
    "#li=[i,c]\n",
    "\n",
    "def kLargestFrequency(s,k):\n",
    "# Construct the frequency dictionary \n",
    "    unique = []\n",
    "    freq = {}\n",
    "    for i in s:\n",
    "        if i not in freq.keys():\n",
    "            freq[i] = s.count(i)\n",
    "    #Extract the unique frequencies in decending order\n",
    "    values = sorted(freq.values(),reverse=True)\n",
    "    uniquevalues=list(set(values))\n",
    "    uniquevalues=sorted(uniquevalues,reverse=True)\n",
    "    #identify the kth largest frequency\n",
    "    if k<= len(freq.keys()):\n",
    "        kvalue = uniquevalues[k-1]\n",
    "    else:\n",
    "        return -1\n",
    "    #get all elements with kth largest frequency\n",
    "    li = []\n",
    "    for item in freq.items():\n",
    "        if item[1] == kvalue:\n",
    "            li.append(item[0])\n",
    "    return min(li)\n",
    "kLargestFrequency('aabcdcc',3)    "
   ]
  },
  {
   "cell_type": "code",
   "execution_count": null,
   "metadata": {},
   "outputs": [],
   "source": []
  }
 ],
 "metadata": {
  "kernelspec": {
   "display_name": "Python 3",
   "language": "python",
   "name": "python3"
  },
  "language_info": {
   "codemirror_mode": {
    "name": "ipython",
    "version": 3
   },
   "file_extension": ".py",
   "mimetype": "text/x-python",
   "name": "python",
   "nbconvert_exporter": "python",
   "pygments_lexer": "ipython3",
   "version": "3.7.3"
  }
 },
 "nbformat": 4,
 "nbformat_minor": 2
}
