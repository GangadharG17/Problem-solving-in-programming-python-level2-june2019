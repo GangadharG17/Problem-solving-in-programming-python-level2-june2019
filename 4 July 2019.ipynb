{
 "cells": [
  {
   "cell_type": "code",
   "execution_count": 2,
   "metadata": {},
   "outputs": [
    {
     "name": "stdout",
     "output_type": "stream",
     "text": [
      "12X345-67\n",
      "Invalid\n"
     ]
    }
   ],
   "source": [
    "# Ali and helping innocent people\n",
    "s=input()\n",
    "if (s[2] not in \"AEIOUY\") and s[-3]=='-' and len(s)==9:\n",
    "    if (int(s[0])+int(s[1]))%2==0 and (int(s[3])+int(s[4]))%2==0 and (int(s[4])+int(s[5]))%2==0 and (int(s[-1])+int(s[-2]))%2==0:\n",
    "        print(\"Valid\")\n",
    "    else:\n",
    "        print(\"Invalid\")\n",
    "else:\n",
    "    print(\"Invalid\")"
   ]
  },
  {
   "cell_type": "code",
   "execution_count": 4,
   "metadata": {},
   "outputs": [
    {
     "name": "stdout",
     "output_type": "stream",
     "text": [
      "3\n",
      "sumit mitsu\n",
      "YES\n",
      "ambuj binju\n",
      "NO\n",
      "ajay jaya\n",
      "YES\n"
     ]
    }
   ],
   "source": [
    "#Two Strings\n",
    "n=int(input())\n",
    "def TwoStrings(n):\n",
    "    for i in range(1,n+1):\n",
    "        s=input()\n",
    "        s=s.split()\n",
    "        s1=s[0]\n",
    "        s2=s[1]\n",
    "        if (sorted(s1)==sorted(s2)):\n",
    "            print(\"YES\")\n",
    "        else:\n",
    "            print(\"NO\")\n",
    "\n",
    "TwoStrings(n)"
   ]
  },
  {
   "cell_type": "code",
   "execution_count": null,
   "metadata": {},
   "outputs": [],
   "source": []
  }
 ],
 "metadata": {
  "kernelspec": {
   "display_name": "Python 3",
   "language": "python",
   "name": "python3"
  },
  "language_info": {
   "codemirror_mode": {
    "name": "ipython",
    "version": 3
   },
   "file_extension": ".py",
   "mimetype": "text/x-python",
   "name": "python",
   "nbconvert_exporter": "python",
   "pygments_lexer": "ipython3",
   "version": "3.7.3"
  }
 },
 "nbformat": 4,
 "nbformat_minor": 2
}
