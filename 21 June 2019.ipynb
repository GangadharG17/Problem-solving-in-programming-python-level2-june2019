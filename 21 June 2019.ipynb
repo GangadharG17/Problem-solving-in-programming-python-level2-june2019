{
 "cells": [
  {
   "cell_type": "markdown",
   "metadata": {},
   "source": [
    "# Update Contacts"
   ]
  },
  {
   "cell_type": "code",
   "execution_count": 1,
   "metadata": {},
   "outputs": [
    {
     "ename": "IndentationError",
     "evalue": "expected an indented block (validators.py, line 13)",
     "output_type": "error",
     "traceback": [
      "Traceback \u001b[1;36m(most recent call last)\u001b[0m:\n",
      "  File \u001b[0;32m\"C:\\ProgramData\\Anaconda3\\lib\\site-packages\\IPython\\core\\interactiveshell.py\"\u001b[0m, line \u001b[0;32m3296\u001b[0m, in \u001b[0;35mrun_code\u001b[0m\n    exec(code_obj, self.user_global_ns, self.user_ns)\n",
      "\u001b[1;36m  File \u001b[1;32m\"<ipython-input-1-ce039eb03af9>\"\u001b[1;36m, line \u001b[1;32m2\u001b[1;36m, in \u001b[1;35m<module>\u001b[1;36m\u001b[0m\n\u001b[1;33m    from Packages.validators import PhoneNumberValidate\u001b[0m\n",
      "\u001b[1;36m  File \u001b[1;32m\"C:\\Users\\IIIT-rgukt\\Desktop\\Problem solving in programming python-level2-june2019\\Packages\\validators.py\"\u001b[1;36m, line \u001b[1;32m13\u001b[0m\n\u001b[1;33m    return False\u001b[0m\n\u001b[1;37m         ^\u001b[0m\n\u001b[1;31mIndentationError\u001b[0m\u001b[1;31m:\u001b[0m expected an indented block\n"
     ]
    }
   ],
   "source": [
    "# Function to add contact to contacts text files\n",
    "from Packages.validators import PhoneNumberValidate \n",
    "from Packages.validators import emailValidator\n",
    "\n",
    "def addContact(name,phone,email):\n",
    "    # Store data as name,phone,email in the contacts file\n",
    "    filename = 'DataFiles/contacts.txt'\n",
    "    if not checkContactExists(name):\n",
    "        if PhoneNumberValidate(phone) and emailValidator(email):\n",
    "            with open(filename,'a')as f:\n",
    "                line=name+','+phone+','+email+' \\n'\n",
    "                f.write(line)\n",
    "            print(name,'added to contacts')\n",
    "        else:\n",
    "            print('Invalid Phone Number or Email')\n",
    "            return\n",
    "    else:\n",
    "        print(name,'already exists')\n",
    "    return\n",
    "\n",
    "#addContatcts(\"name1\",8374444497,\"name5_56@gmail.com\")\n",
    "import re\n",
    "#Function to check if contacts already exists\n",
    "def checkContactExists(name):\n",
    "    filename = 'DataFiles/contacts.txt'\n",
    "    with open(filename, 'r')as f:\n",
    "        filedata = f.read()\n",
    "        pattern = name+','\n",
    "    return re.search(name,filedata)\n",
    "\n",
    "#if checkContactsExists(\"name2\"):\n",
    "   # print(True)\n",
    "#else:\n",
    " #   print(False)\n",
    "addContatcts(\"name5\",8374444497,\"name5_56@gmail.com\")"
   ]
  },
  {
   "cell_type": "code",
   "execution_count": 2,
   "metadata": {},
   "outputs": [
    {
     "data": {
      "text/plain": [
       "' name1,8886468828,name1_35@gmail.com\\nname2,9999999999,name2_657@gmail.com'"
      ]
     },
     "execution_count": 2,
     "metadata": {},
     "output_type": "execute_result"
    }
   ],
   "source": [
    "filename = 'Datafiles/contacts.txt'\n",
    "def csvToList(filename):\n",
    "    li = []\n",
    "    with open(filename, 'r')as f:\n",
    "        for line in f:\n",
    "            li.append(line.split(','))\n",
    "        return li\n",
    "def ListToFile(li):\n",
    "    s=' '\n",
    "    for i in li:\n",
    "        s += ','.join(i)\n",
    "    return s\n",
    "li = csvToList(filename)\n",
    "ListToFile(li)\n"
   ]
  },
  {
   "cell_type": "markdown",
   "metadata": {},
   "source": [
    "# Tasks\n",
    "\n",
    "- add contacts by using files\n",
    "- delete contacts by using files\n",
    "- modify contacts by using files\n",
    "- search contacts by using files\n",
    "- display contacts by using files"
   ]
  },
  {
   "cell_type": "code",
   "execution_count": 5,
   "metadata": {},
   "outputs": [
    {
     "name": "stdout",
     "output_type": "stream",
     "text": [
      "name1,8886468828,name1_35@gmail.com\n",
      "\n"
     ]
    }
   ],
   "source": [
    "def SeachforContacts(name):\n",
    "    f1 = csvToList(filename)\n",
    "    for line in f1:\n",
    "        flag=0\n",
    "        if name in line[0]:\n",
    "            flag = 1\n",
    "            print(\",\".join(line))\n",
    "    return\n",
    "SeachforContacts(\"name1\")\n",
    "            "
   ]
  },
  {
   "cell_type": "code",
   "execution_count": 11,
   "metadata": {},
   "outputs": [
    {
     "data": {
      "text/plain": [
       "-1"
      ]
     },
     "execution_count": 11,
     "metadata": {},
     "output_type": "execute_result"
    }
   ],
   "source": [
    "def SearchWithReturn(filename,name):\n",
    "    f1 = csvToList(filename)\n",
    "    for i in range(len(f1)):\n",
    "        flag=0\n",
    "        if name==f1[i][0]:\n",
    "            flag=1\n",
    "            ind=i\n",
    "    if flag==0:\n",
    "        return -1\n",
    "    else:\n",
    "        return i\n",
    "SearchWithReturn('Datafiles\\contacts.txt',\"name1\")    "
   ]
  },
  {
   "cell_type": "code",
   "execution_count": 14,
   "metadata": {},
   "outputs": [
    {
     "ename": "SyntaxError",
     "evalue": "invalid syntax (<ipython-input-14-3b0f73f510bb>, line 2)",
     "output_type": "error",
     "traceback": [
      "\u001b[1;36m  File \u001b[1;32m\"<ipython-input-14-3b0f73f510bb>\"\u001b[1;36m, line \u001b[1;32m2\u001b[0m\n\u001b[1;33m    for i SearchWithReturn(filename,name):\u001b[0m\n\u001b[1;37m                         ^\u001b[0m\n\u001b[1;31mSyntaxError\u001b[0m\u001b[1;31m:\u001b[0m invalid syntax\n"
     ]
    }
   ],
   "source": [
    "def remove(filename,name):\n",
    "    i SearchWithReturn(filename,name):\n",
    "    if i!=1:\n",
    "        f1 = csvToList(filename)\n",
    "        f1.pop(i)\n",
    "        with open(filename,'w') as f:\n",
    "            f.write(s)\n",
    "    else:\n",
    "        print(\"Contact not found to remove\")\n",
    "remove('Datafiles\\contacts.txt',\"name2\")"
   ]
  },
  {
   "cell_type": "code",
   "execution_count": null,
   "metadata": {},
   "outputs": [],
   "source": []
  }
 ],
 "metadata": {
  "kernelspec": {
   "display_name": "Python 3",
   "language": "python",
   "name": "python3"
  },
  "language_info": {
   "codemirror_mode": {
    "name": "ipython",
    "version": 3
   },
   "file_extension": ".py",
   "mimetype": "text/x-python",
   "name": "python",
   "nbconvert_exporter": "python",
   "pygments_lexer": "ipython3",
   "version": "3.7.3"
  }
 },
 "nbformat": 4,
 "nbformat_minor": 2
}
