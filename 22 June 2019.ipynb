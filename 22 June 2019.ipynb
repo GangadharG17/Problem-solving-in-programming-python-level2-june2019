{
 "cells": [
  {
   "cell_type": "markdown",
   "metadata": {},
   "source": [
    "# Day Objectives\n",
    "\n",
    " - **File Handlindg \n",
    "        **-Basic File data Processing\n",
    "            -**Accessing and Modifying File Data\n",
    "        -**Character Count\n",
    "        -**Line Count\n",
    "        -**File Size\n",
    "        -**Word Count\n",
    "        -**Unique word Count    "
   ]
  },
  {
   "cell_type": "code",
   "execution_count": 17,
   "metadata": {},
   "outputs": [
    {
     "data": {
      "text/plain": [
       "'Line1\\nLine2\\nLine3 Line2\\nline3 Line2\\nline3'"
      ]
     },
     "execution_count": 17,
     "metadata": {},
     "output_type": "execute_result"
    }
   ],
   "source": [
    "# Read a file - File should exist(read mode)\n",
    "# Write to a file - Existing(append) or New file(write mode)\n",
    "def readFile(filepath):\n",
    "    with open(filepath,'r')as f:\n",
    "        filedata = f.read()\n",
    "    return filedata\n",
    "\n",
    "filepath = 'Datafiles/data.txt'\n",
    "readFile(filepath)"
   ]
  },
  {
   "cell_type": "code",
   "execution_count": 18,
   "metadata": {},
   "outputs": [
    {
     "name": "stdout",
     "output_type": "stream",
     "text": [
      "41\n"
     ]
    }
   ],
   "source": [
    "#Character count\n",
    "def CharacterCount(filename):\n",
    "    with open(filename,'r')as f:\n",
    "        s=f.read()\n",
    "        c=0\n",
    "        for i in s:\n",
    "            c += 1\n",
    "        print(c)\n",
    "filename = 'Datafiles/data.txt'\n",
    "CharacterCount(filename)\n",
    "    \n",
    "\n",
    "\n"
   ]
  },
  {
   "cell_type": "code",
   "execution_count": 51,
   "metadata": {},
   "outputs": [
    {
     "name": "stdout",
     "output_type": "stream",
     "text": [
      "Total no of lines 5\n"
     ]
    }
   ],
   "source": [
    "# line count\n",
    "def LineCount(filepath):\n",
    "    with open(filepath,'r') as f:\n",
    "        s=f.readlines()\n",
    "        line=0\n",
    "        for i in s:\n",
    "            line += 1\n",
    "        print(\"Total no of lines\", line)\n",
    "filepath = 'Datafiles/data.txt'\n",
    "LineCount(filepath)"
   ]
  },
  {
   "cell_type": "code",
   "execution_count": 41,
   "metadata": {},
   "outputs": [
    {
     "name": "stdout",
     "output_type": "stream",
     "text": [
      "41 bytes\n"
     ]
    }
   ],
   "source": [
    "# file size\n",
    "import os\n",
    "def fileSize(filepath):\n",
    "    b =os.path.getsize(filepath)\n",
    "    if b<1000:\n",
    "        print(b,\"bytes\")\n",
    "    else:\n",
    "        a=b//1000\n",
    "        print(a,\"KB\")\n",
    "filepath = 'Datafiles/data.txt'\n",
    "fileSize(filepath)"
   ]
  },
  {
   "cell_type": "code",
   "execution_count": 50,
   "metadata": {},
   "outputs": [
    {
     "name": "stdout",
     "output_type": "stream",
     "text": [
      "7\n"
     ]
    }
   ],
   "source": [
    "# Word Count\n",
    "def Wordcount(filepath):\n",
    "    with open(filepath,'r') as f:\n",
    "        s=(f.read().split())\n",
    "        print(len(s))\n",
    "        \n",
    "filepath = 'Datafiles/data.txt'\n",
    "Wordcount(filepath)"
   ]
  },
  {
   "cell_type": "code",
   "execution_count": 7,
   "metadata": {},
   "outputs": [
    {
     "data": {
      "text/plain": [
       "[1, 2, 3]"
      ]
     },
     "execution_count": 7,
     "metadata": {},
     "output_type": "execute_result"
    }
   ],
   "source": [
    "#Function to find unique data count\n",
    "#[1,2,3,3,2,1]->[1,2,3]\n",
    "#Create a empty unique list [1,2,3]\n",
    "\n",
    "\n",
    "# For every element in the main list\n",
    "#check if it exists in the unique list\n",
    "#if it does not exist,add it to unique \n",
    "#else if it is already exists,move on todef unique(li):\n",
    "def unique(li):\n",
    "    unique=[]\n",
    "    for element in li:\n",
    "        if element not in unique:\n",
    "            unique.append(element)\n",
    "    return unique\n",
    "\n",
    "li = [1,2,3,3,2,1]\n",
    "unique(li)\n"
   ]
  },
  {
   "cell_type": "code",
   "execution_count": 22,
   "metadata": {},
   "outputs": [
    {
     "name": "stdout",
     "output_type": "stream",
     "text": [
      "['data', 'in', 'Line', '1', 'data', 'in', 'Line', '2', 'data', 'in', 'Line', '3']\n",
      "12\n"
     ]
    }
   ],
   "source": [
    "#Function to count the number of unique words in a text files\n",
    "def UniqueWord(filepath):\n",
    "    with open(filepath,'r') as f:\n",
    "        filedata=f.read().split()\n",
    "        print(filedata)\n",
    "        y=set(filedata)\n",
    "        print(len(filedata))\n",
    "        return\n",
    "\n",
    "filepath = 'Datafiles/data.txt'\n",
    "UniqueWord(filepath)    \n",
    "    "
   ]
  },
  {
   "cell_type": "code",
   "execution_count": 19,
   "metadata": {},
   "outputs": [
    {
     "name": "stdout",
     "output_type": "stream",
     "text": [
      "data : 3\n",
      "in : 3\n",
      "Line : 3\n",
      "1 : 1\n",
      "2 : 1\n",
      "3 : 1\n"
     ]
    }
   ],
   "source": [
    "# Function to print the frequency count of \n",
    "# Frequency distribution \n",
    "\n",
    "#data in line1\n",
    "#data in line2\n",
    "#data in line3\n",
    "#o/p\n",
    "#data : 3\n",
    "#in : 3\n",
    "#line: 3\n",
    "#1:1\n",
    "#2:1\n",
    "#3:1\n",
    "\n",
    "def uniqueWordCount(filepath):\n",
    "    c=0\n",
    "    unique=[]\n",
    "    with open(filepath,'r') as f:\n",
    "        filedata=f.read().split()\n",
    "        for i in filedata:\n",
    "            q = i\n",
    "            if q not in unique:\n",
    "                unique.append(q)\n",
    "                for j in filedata:\n",
    "                    if q == j:\n",
    "                        c = c+1\n",
    "                print(q,':',c)\n",
    "                c = 0\n",
    "    return \n",
    "filepath = 'Datafiles/data.txt'\n",
    "uniqueWordCount(filepath)\n",
    "                \n",
    "                \n",
    "                "
   ]
  },
  {
   "cell_type": "code",
   "execution_count": null,
   "metadata": {},
   "outputs": [],
   "source": [
    "#Contacts Applications\n",
    "\n",
    "# Find and Replace Application"
   ]
  }
 ],
 "metadata": {
  "kernelspec": {
   "display_name": "Python 3",
   "language": "python",
   "name": "python3"
  },
  "language_info": {
   "codemirror_mode": {
    "name": "ipython",
    "version": 3
   },
   "file_extension": ".py",
   "mimetype": "text/x-python",
   "name": "python",
   "nbconvert_exporter": "python",
   "pygments_lexer": "ipython3",
   "version": "3.7.3"
  }
 },
 "nbformat": 4,
 "nbformat_minor": 2
}
